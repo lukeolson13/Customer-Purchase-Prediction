{
 "cells": [
  {
   "cell_type": "code",
   "execution_count": 1,
   "metadata": {},
   "outputs": [],
   "source": [
    "import pandas as pd\n",
    "import matplotlib.pyplot as plt\n",
    "from matplotlib import rc\n",
    "import seaborn as sb\n",
    "import numpy as np\n",
    "from sklearn.metrics import mean_squared_error\n",
    "from sklearn.model_selection import GridSearchCV, KFold, cross_val_score\n",
    "\n",
    "from sklearn.model_selection import train_test_split, TimeSeriesSplit\n",
    "from sklearn.feature_selection import SelectFromModel\n",
    "from sklearn.gaussian_process import GaussianProcessRegressor\n",
    "from sklearn.svm import SVR, LinearSVR\n",
    "from sklearn.linear_model import LinearRegression, Ridge, Lasso, ElasticNet, SGDRegressor\n",
    "from sklearn.tree import DecisionTreeRegressor\n",
    "from sklearn.ensemble import RandomForestRegressor, AdaBoostRegressor, GradientBoostingRegressor\n",
    "from sklearn.neighbors import KNeighborsRegressor, NearestNeighbors\n",
    "from sklearn.discriminant_analysis import LinearDiscriminantAnalysis\n",
    "from sklearn.naive_bayes import GaussianNB\n",
    "from sklearn.neural_network import MLPRegressor\n",
    "from sklearn.svm import SVC\n",
    "from sklearn.model_selection import GridSearchCV\n",
    "from sklearn.metrics import roc_auc_score, f1_score"
   ]
  },
  {
   "cell_type": "code",
   "execution_count": 2,
   "metadata": {},
   "outputs": [],
   "source": [
    "train_data = pd.read_csv('train.csv').sample(frac=0.3)\n",
    "#pred_data = pd.read_csv('promotion_schedule.csv')"
   ]
  },
  {
   "cell_type": "markdown",
   "metadata": {},
   "source": [
    "## Clean & Split Data"
   ]
  },
  {
   "cell_type": "code",
   "execution_count": 3,
   "metadata": {},
   "outputs": [],
   "source": [
    "# dummy the categories\n",
    "train_data = pd.get_dummies(train_data, columns=['j', 'i'])"
   ]
  },
  {
   "cell_type": "code",
   "execution_count": 4,
   "metadata": {},
   "outputs": [],
   "source": [
    "# split into X and y\n",
    "foo = train_data.copy()\n",
    "y = foo.pop('price')\n",
    "X = foo\n",
    "del foo"
   ]
  },
  {
   "cell_type": "code",
   "execution_count": 5,
   "metadata": {},
   "outputs": [],
   "source": [
    "def time_split(X, y, test_start_time):\n",
    "    '''\n",
    "    Splits data based on a sinlge point in time\n",
    "    '''\n",
    "    train_index = X.t < test_start_time\n",
    "    test_index = X.t >= test_start_time\n",
    "    X_train, y_train = X[ train_index], y[ train_index]\n",
    "    X_test, y_test = X[ test_index ], y[ test_index ]\n",
    "    print('Data used to test: {} %'.format(round(len(y_test) / ( len(y_test) + len(y_train) ), 3) * 100))\n",
    "    return X_train, X_test, y_train, y_test"
   ]
  },
  {
   "cell_type": "code",
   "execution_count": 6,
   "metadata": {},
   "outputs": [
    {
     "name": "stdout",
     "output_type": "stream",
     "text": [
      "Data used to test: 20.5 %\n"
     ]
    }
   ],
   "source": [
    "# split data\n",
    "split_by_time = True\n",
    "if split_by_time:\n",
    "    X_train, X_test, y_train, y_test = time_split(X, y, 39)\n",
    "else:\n",
    "    X_train, X_test, y_train, y_test = train_test_split(X, y, test_size=0.2)"
   ]
  },
  {
   "cell_type": "markdown",
   "metadata": {},
   "source": [
    "## Model"
   ]
  },
  {
   "cell_type": "code",
   "execution_count": 10,
   "metadata": {},
   "outputs": [],
   "source": [
    "def test_acc(model, X_train, X_test, y_train, y_test):\n",
    "    '''\n",
    "    Determine negative mean absolute error for test data\n",
    "    '''\n",
    "    model.fit(X_train, y_train)\n",
    "    pred = model.predict(X_test)\n",
    "    return -abs(np.array(pred) - np.array(y_test)).mean()"
   ]
  },
  {
   "cell_type": "code",
   "execution_count": 11,
   "metadata": {},
   "outputs": [],
   "source": [
    "def class_crossval_plot(X_train, X_test, y_train, y_test, models, splits=5, scoring='neg_mean_absolute_error'):\n",
    "    \"\"\"\n",
    "    Create violin plot of multiple models' test scores\n",
    "    Inputs:\n",
    "        X - dataframe features\n",
    "        y - dataframe target column\n",
    "        models - list of sklearn models to test\n",
    "        scoring - measure of best fit for models to use\n",
    "    \"\"\"\n",
    "    results = []\n",
    "    names = []\n",
    "    all_scores = []\n",
    "    print('Mod - Avg - Std Dev')\n",
    "    print('---   ---   -------')\n",
    "    for model in models:\n",
    "        name = model.__class__.__name__\n",
    "        kfold = KFold(n_splits=splits)\n",
    "        cv_results = cross_val_score(model, X_train, y_train, cv=kfold, scoring=scoring, n_jobs=-1)\n",
    "        results.append(cv_results)\n",
    "        names.append(name)\n",
    "        print('{}: {:.4f} ({:4f})'.format(name, cv_results.mean(), cv_results.std()))\n",
    "        print('Test acc: {:.4f}'.format(test_acc(model, X_train, X_test, y_train, y_test)))\n",
    "        print()\n",
    "\n",
    "    fig = plt.figure(figsize=(16, 10))\n",
    "    plt.tight_layout()\n",
    "    fig.suptitle('Cross Validation Comparison of Regression Models')\n",
    "    ax = fig.add_subplot(111)\n",
    "    sb.violinplot(data=results, orient='v')\n",
    "    ax.set_xticklabels(names, rotation=50, ha='right')\n",
    "    ax.set_xlabel('Model')\n",
    "    plt.grid(alpha=0.4)"
   ]
  },
  {
   "cell_type": "code",
   "execution_count": null,
   "metadata": {},
   "outputs": [
    {
     "name": "stdout",
     "output_type": "stream",
     "text": [
      "Mod - Avg - Std Dev\n",
      "---   ---   -------\n",
      "Ridge: -0.0307 (0.000616)\n",
      "Test acc: -0.0313\n",
      "\n",
      "Lasso: -0.6459 (0.006741)\n",
      "Test acc: -0.6415\n",
      "\n",
      "ElasticNet: -0.6459 (0.006741)\n",
      "Test acc: -0.6415\n",
      "\n",
      "KNeighborsRegressor: -0.0346 (0.002015)\n",
      "Test acc: -0.1378\n",
      "\n",
      "DecisionTreeRegressor: -0.0003 (0.000269)\n",
      "Test acc: -0.0100\n",
      "\n",
      "RandomForestRegressor: -0.0006 (0.000233)\n",
      "Test acc: -0.0088\n",
      "\n",
      "GradientBoostingRegressor: -0.1461 (0.001870)\n",
      "Test acc: -0.1512\n",
      "\n"
     ]
    }
   ],
   "source": [
    "# Initial Cross Validation\n",
    "models = []\n",
    "# models.append(LinearRegression())\n",
    "models.append(Ridge())\n",
    "models.append(Lasso())\n",
    "models.append(ElasticNet())\n",
    "models.append(KNeighborsRegressor(n_jobs=-1))\n",
    "models.append(DecisionTreeRegressor())\n",
    "models.append(RandomForestRegressor())\n",
    "models.append(GradientBoostingRegressor())\n",
    "models.append(MLPRegressor())\n",
    "\n",
    "class_crossval_plot(X_train, X_test, y_train, y_test, models)"
   ]
  },
  {
   "cell_type": "code",
   "execution_count": null,
   "metadata": {},
   "outputs": [],
   "source": [
    "LinearRegression().__class__.__name__"
   ]
  },
  {
   "cell_type": "code",
   "execution_count": null,
   "metadata": {},
   "outputs": [],
   "source": [
    "for j in train_data.j.unique():\n",
    "    foo = train_data[ train_data.j == j]\n",
    "    plt.plot(foo.t, foo.price)"
   ]
  },
  {
   "cell_type": "code",
   "execution_count": null,
   "metadata": {},
   "outputs": [],
   "source": []
  }
 ],
 "metadata": {
  "kernelspec": {
   "display_name": "Python 3",
   "language": "python",
   "name": "python3"
  },
  "language_info": {
   "codemirror_mode": {
    "name": "ipython",
    "version": 3
   },
   "file_extension": ".py",
   "mimetype": "text/x-python",
   "name": "python",
   "nbconvert_exporter": "python",
   "pygments_lexer": "ipython3",
   "version": "3.6.4"
  }
 },
 "nbformat": 4,
 "nbformat_minor": 2
}
